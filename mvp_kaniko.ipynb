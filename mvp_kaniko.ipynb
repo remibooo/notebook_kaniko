{
 "cells": [
  {
   "cell_type": "code",
   "execution_count": 13,
   "id": "1527d974",
   "metadata": {},
   "outputs": [
    {
     "data": {
      "text/html": [
       "<script>\n",
       "    // AUTORUN ALL CELLS ON NOTEBOOK-LOAD!\n",
       "    require(\n",
       "        ['base/js/namespace', 'jquery'], \n",
       "        function(jupyter, $) {\n",
       "            $(jupyter.events).on(\"kernel_ready.Kernel\", function () {\n",
       "                console.log(\"Auto-running all cells-below...\");\n",
       "                jupyter.actions.call('jupyter-notebook:run-all-cells-below');\n",
       "                jupyter.actions.call('jupyter-notebook:save-notebook');\n",
       "            });\n",
       "        }\n",
       "    );\n",
       "</script>\n"
      ],
      "text/plain": [
       "<IPython.core.display.HTML object>"
      ]
     },
     "metadata": {},
     "output_type": "display_data"
    }
   ],
   "source": [
    "%%html\n",
    "<script>\n",
    "    // AUTORUN ALL CELLS ON NOTEBOOK-LOAD!\n",
    "    require(\n",
    "        ['base/js/namespace', 'jquery'], \n",
    "        function(jupyter, $) {\n",
    "            $(jupyter.events).on(\"kernel_ready.Kernel\", function () {\n",
    "                console.log(\"Auto-running all cells-below...\");\n",
    "                jupyter.actions.call('jupyter-notebook:run-all-cells-below');\n",
    "                jupyter.actions.call('jupyter-notebook:save-notebook');\n",
    "            });\n",
    "        }\n",
    "    );\n",
    "</script>"
   ]
  },
  {
   "cell_type": "code",
   "execution_count": null,
   "id": "269b8f69",
   "metadata": {},
   "outputs": [],
   "source": [
    "%%html\n",
    "<script>\n",
    "    code_show=true; \n",
    "    function code_toggle() {\n",
    "        if (code_show){\n",
    "            $('div.input').hide();\n",
    "        } else {\n",
    "            $('div.input').show();\n",
    "        }\n",
    "        code_show = !code_show\n",
    "    } \n",
    "    $( document ).ready(code_toggle);\n",
    "</script>"
   ]
  },
  {
   "cell_type": "markdown",
   "id": "4810479a",
   "metadata": {},
   "source": [
    "<img src=\"./qarnot_ligne.png\" \n",
    "     width=\"30%\" \n",
    "     align=right\n",
    "     alt=\"Dask logo\">\n",
    "     \n",
    "# Image builder\n",
    "\n",
    "\n",
    "*Build your docker images without freezing your laptop!*\n",
    "\n",
    "This notebook uses [Qarnot](https://computing.qarnot.com/en/) servers to build your docker image. It is based on the [kaniko project](https://github.com/GoogleContainerTools/kaniko).\n",
    "\n",
    "\n"
   ]
  },
  {
   "cell_type": "code",
   "execution_count": null,
   "id": "8cf20298",
   "metadata": {},
   "outputs": [],
   "source": [
    "import os\n",
    "import ipywidgets as widgets\n",
    "from tkinter import Tk, filedialog\n",
    "import run_kaniko as qarnot_kaniko\n",
    "from IPython.display import clear_output, display, HTML"
   ]
  },
  {
   "cell_type": "markdown",
   "id": "62b51b81",
   "metadata": {},
   "source": [
    "## Add your Qarnot token"
   ]
  },
  {
   "cell_type": "markdown",
   "id": "1afe24b2",
   "metadata": {},
   "source": [
    "If you don't have a Qarnot account yet, sign up [here](https://account.qarnot.com/compute) and copy your token."
   ]
  },
  {
   "cell_type": "code",
   "execution_count": null,
   "id": "fdb55795",
   "metadata": {},
   "outputs": [],
   "source": [
    "token = widgets.Password(\n",
    "    placeholder='Qarnot token',\n",
    "    description='* Qarnot token',\n",
    "    disabled=False\n",
    ")\n",
    "display(token)"
   ]
  },
  {
   "cell_type": "markdown",
   "id": "6913a18e",
   "metadata": {},
   "source": [
    "## Upload your Dockerfile to be built"
   ]
  },
  {
   "cell_type": "code",
   "execution_count": null,
   "id": "19aacd8e",
   "metadata": {},
   "outputs": [],
   "source": [
    "file = widgets.FileUpload(\n",
    "    accept='',  # Accepted file extension e.g. '.txt', '.pdf', 'image/*', 'image/*,.pdf'\n",
    "    multiple=False  # True to accept multiple files upload else False\n",
    ")\n",
    "display(file)"
   ]
  },
  {
   "cell_type": "markdown",
   "id": "c9bb230c",
   "metadata": {},
   "source": [
    "## Upload your Docker context files\n",
    "Select all files you want to add in the docker context"
   ]
  },
  {
   "cell_type": "code",
   "execution_count": null,
   "id": "b51671d3",
   "metadata": {},
   "outputs": [],
   "source": [
    "contextFiles = widgets.FileUpload(\n",
    "    accept='',  # Accepted file extension e.g. '.txt', '.pdf', 'image/*', 'image/*,.pdf'\n",
    "    multiple=True  # True to accept multiple files upload else False\n",
    ")\n",
    "display(contextFiles)"
   ]
  },
  {
   "cell_type": "markdown",
   "id": "3f113b8e",
   "metadata": {},
   "source": [
    "## Select the Docker destination where to push the image\n",
    "Format is {repo_name}/{image_name}:{tag}\n",
    "Destination encompasses {repo_name}/{image_name}"
   ]
  },
  {
   "cell_type": "code",
   "execution_count": null,
   "id": "d14bf30f",
   "metadata": {},
   "outputs": [],
   "source": [
    "repo = widgets.Text(description=\"* Repo destination\",\n",
    "                    placeholder=\"Destination docker repository\",\n",
    "                    width=200)\n",
    "display(repo)"
   ]
  },
  {
   "cell_type": "code",
   "execution_count": null,
   "id": "b49d0a42",
   "metadata": {},
   "outputs": [],
   "source": [
    "tag = widgets.Text(description=\"Image tag\",\n",
    "                   placeholder=\"Destination docker tag\",\n",
    "                   width=200)\n",
    "display(tag)"
   ]
  },
  {
   "cell_type": "markdown",
   "id": "7bea53af",
   "metadata": {},
   "source": [
    "## Select the Docker user and Docker pwd\n",
    "They are used to push your image on your docker repository"
   ]
  },
  {
   "cell_type": "code",
   "execution_count": null,
   "id": "78d467e7",
   "metadata": {},
   "outputs": [],
   "source": [
    "user = widgets.Text(description=\"* Docker user\",\n",
    "                    placeholder=\"Docker user\",\n",
    "                    width=200)\n",
    "display(user)"
   ]
  },
  {
   "cell_type": "code",
   "execution_count": null,
   "id": "8d7cd7e9",
   "metadata": {},
   "outputs": [],
   "source": [
    "pwd = widgets.Password(\n",
    "    placeholder='Docker repository pwd',\n",
    "    description='* Docker pwd',\n",
    "    disabled=False\n",
    ")\n",
    "display(pwd)"
   ]
  },
  {
   "cell_type": "markdown",
   "id": "2e0b3a48",
   "metadata": {},
   "source": [
    "## Launch the Qarnot computation"
   ]
  },
  {
   "cell_type": "code",
   "execution_count": null,
   "id": "4aac9b0c",
   "metadata": {
    "scrolled": false
   },
   "outputs": [],
   "source": [
    "button = widgets.Button(description=\"Launch build!\")\n",
    "output = widgets.Output()\n",
    "display(button, output)\n",
    "\n",
    "\n",
    "def on_button_clicked(b):\n",
    "    \n",
    "    # Upload Dockerfile\n",
    "    try:\n",
    "        file_name = list(file.value.keys())[0]\n",
    "\n",
    "        # Create folder input/\n",
    "        ! mkdir -p input_binder\n",
    "\n",
    "        # Write the Dockerfile in the binder container\n",
    "        with open(\"./input_binder/Dockerfile\", \"wb\") as fp:\n",
    "            fp.write(file.value[file_name]['content'])\n",
    "    except:\n",
    "        print(\"An error occured with the Dockerfile upload\")\n",
    "\n",
    "    \n",
    "    # Upload docker context files\n",
    "    try:\n",
    "        list_file_names = list(contextFiles.value.keys())\n",
    "\n",
    "        # Write the context files in the binder container\n",
    "        for f in list_file_names:\n",
    "            with open(\"./input_binder/{}\".format(f), \"wb\") as fp:\n",
    "                fp.write(contextFiles.value[f]['content'])\n",
    "    except:\n",
    "        print(\"An error occured with the docker context files upload\")\n",
    "    \n",
    "    # Launch computation\n",
    "    try:\n",
    "        # Set tag value to latest if not filled\n",
    "        if tag.value == \"\":\n",
    "            docker_tag = \"latest\"\n",
    "        else:\n",
    "            docker_tag = tag.value\n",
    "    \n",
    "        task_uuid = qarnot_kaniko.submit_task(token.value, repo.value, user.value, pwd.value, \"{}/input_binder\".format(os.getcwd()), docker_tag)\n",
    "\n",
    "    except AttributeError:\n",
    "        print(\"Some fields were not properly filled: check you selected a Dockerfile\") \n",
    "\n",
    "        \n",
    "button.on_click(on_button_clicked)"
   ]
  },
  {
   "cell_type": "markdown",
   "id": "b2a70288",
   "metadata": {},
   "source": [
    "To abort your build, you can go directly to [Qarnot console](https://console.qarnot.com/app/tasks):\n",
    "\n",
    "* use your email address and password to connect\n",
    "* select the ongoing task\n",
    "* click on the \"ABORT\" button"
   ]
  },
  {
   "cell_type": "code",
   "execution_count": null,
   "id": "9585e59f",
   "metadata": {},
   "outputs": [],
   "source": [
    "HTML('''<script>\n",
    "code_show=true; \n",
    "function code_toggle() {\n",
    " if (code_show){\n",
    " $('div.input').hide();\n",
    " } else {\n",
    " $('div.input').show();\n",
    " }\n",
    " code_show = !code_show\n",
    "} \n",
    "$( document ).ready(code_toggle);\n",
    "</script>\n",
    "The raw code for this IPython notebook is by default hidden for easier reading.\n",
    "To toggle on/off the raw code, click <a href=\"javascript:code_toggle()\">here</a>.''')"
   ]
  }
 ],
 "metadata": {
  "interpreter": {
   "hash": "0fbb9f8e195abe53174c0f9ec17e4383ade7781b5f2b704a51557b556b0f1aa0"
  },
  "kernelspec": {
   "display_name": "Python 3",
   "language": "python",
   "name": "python3"
  },
  "language_info": {
   "codemirror_mode": {
    "name": "ipython",
    "version": 3
   },
   "file_extension": ".py",
   "mimetype": "text/x-python",
   "name": "python",
   "nbconvert_exporter": "python",
   "pygments_lexer": "ipython3",
   "version": "3.8.8"
  }
 },
 "nbformat": 4,
 "nbformat_minor": 5
}
